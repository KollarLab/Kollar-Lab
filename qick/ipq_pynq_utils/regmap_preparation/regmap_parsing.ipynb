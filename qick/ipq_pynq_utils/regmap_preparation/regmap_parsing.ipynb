{
 "cells": [
  {
   "cell_type": "markdown",
   "id": "abd9ea59-7940-4e17-8077-d20b6d92f6c6",
   "metadata": {},
   "source": [
    "# Regmap Parsing"
   ]
  },
  {
   "cell_type": "code",
   "execution_count": 1,
   "id": "d9f601b1-ec47-4deb-97df-10cc56006496",
   "metadata": {},
   "outputs": [],
   "source": [
    "import ipq_pynq_utils\n",
    "import numpy as np"
   ]
  },
  {
   "cell_type": "code",
   "execution_count": 2,
   "id": "b85d3c74-daf6-4d77-b678-e4bfd1f990a0",
   "metadata": {},
   "outputs": [],
   "source": [
    "clk104 = ipq_pynq_utils.CLK104(\"clockfile.txt\")"
   ]
  },
  {
   "cell_type": "code",
   "execution_count": 3,
   "id": "7649fde8-26ce-40ce-b6cd-a1c552220cac",
   "metadata": {},
   "outputs": [
    {
     "name": "stdout",
     "output_type": "stream",
     "text": [
      "ADC_REFCLK: 245.76\n",
      "DAC_REFCLK: 245.76\n",
      "RF_PLL_ADC_REF: 245.76\n",
      "RF_PLL_DAC_REF: 245.76\n",
      "SYSREF_FREQ: 7.68\n"
     ]
    }
   ],
   "source": [
    "clk104.PLL2_FREQ = 2457.6 # Main Reference Clock\n",
    "# clk104.PLL2_FREQ = 3000 # Main Reference Clock\n",
    "\n",
    "print(f\"ADC_REFCLK: {clk104.ADC_REFCLK.freq:.2f}\")\n",
    "print(f\"DAC_REFCLK: {clk104.DAC_REFCLK.freq:.2f}\")\n",
    "print(f\"RF_PLL_ADC_REF: {clk104.RF_PLL_ADC_REF.freq:.2f}\")\n",
    "print(f\"RF_PLL_DAC_REF: {clk104.RF_PLL_DAC_REF.freq:.2f}\")\n",
    "print(f\"SYSREF_FREQ: {clk104.SYSREF_FREQ:.2f}\")"
   ]
  },
  {
   "cell_type": "code",
   "execution_count": 4,
   "id": "fc95aba3-a162-4832-96cd-63b10bf7c6a1",
   "metadata": {},
   "outputs": [
    {
     "name": "stdout",
     "output_type": "stream",
     "text": [
      "0 True True\n",
      "1 False True\n",
      "2 True True\n",
      "3 False False\n",
      "4 True True\n",
      "5 False True\n",
      "6 False False\n"
     ]
    }
   ],
   "source": [
    "for i,branch in enumerate(clk104.lmk.clock_branches):\n",
    "    print(i, branch.dclk_active, branch.sdclk_active)"
   ]
  },
  {
   "cell_type": "code",
   "execution_count": 5,
   "id": "03e5695a-4c55-4894-bcf4-f758634fd5d5",
   "metadata": {
    "tags": []
   },
   "outputs": [],
   "source": [
    "# clk104.get_register_dump()"
   ]
  },
  {
   "cell_type": "code",
   "execution_count": 6,
   "id": "d182c3e5-6e99-4471-a7b8-67212caae5c6",
   "metadata": {},
   "outputs": [],
   "source": [
    "clk104.lmk.update(printDebug=False)"
   ]
  },
  {
   "cell_type": "code",
   "execution_count": 7,
   "id": "1da54b2a-ec41-4982-92ed-b621b3507135",
   "metadata": {},
   "outputs": [],
   "source": [
    "clk104.lmk.write_register_dump(\"clockfile_out.txt\")"
   ]
  },
  {
   "cell_type": "code",
   "execution_count": 8,
   "id": "5109a798-9163-4998-8e6e-d77774baf21f",
   "metadata": {},
   "outputs": [
    {
     "name": "stdout",
     "output_type": "stream",
     "text": [
      "136c136\n",
      "< R8191\t0x1FFF53\n",
      "\\ No newline at end of file\n",
      "---\n",
      "> R8191\t0x1FFF53\n"
     ]
    }
   ],
   "source": [
    "!diff clockfile.txt clockfile_out.txt"
   ]
  },
  {
   "cell_type": "raw",
   "id": "50e4bca4-65d9-48b8-8558-9fc01ba0420e",
   "metadata": {
    "tags": []
   },
   "source": [
    "register_by_addr = {}\n",
    "\n",
    "for register in regmap:\n",
    "    addr = register[\"addr\"]\n",
    "    register_by_addr[addr] = Register(register)\n",
    "\n",
    "    for field in register[\"fields\"]:\n",
    "        if field[\"fieldtype\"] == \"constant\":\n",
    "            continue\n",
    "\n",
    "        # print(f\" regmap[0x{addr:<3x}][{field['end']}:{field['start']}] {field['name']:20} {field['description']}\")"
   ]
  },
  {
   "cell_type": "code",
   "execution_count": 9,
   "id": "6a98bd80-3bd4-4b9d-8558-6d00765725e7",
   "metadata": {},
   "outputs": [
    {
     "data": {
      "text/plain": [
       "13"
      ]
     },
     "execution_count": 9,
     "metadata": {},
     "output_type": "execute_result"
    }
   ],
   "source": [
    "len(bin(0x1fff))-2"
   ]
  },
  {
   "cell_type": "code",
   "execution_count": 10,
   "id": "4ac9d140-5e53-4b84-97b7-aadbdcb66582",
   "metadata": {},
   "outputs": [],
   "source": [
    "def parse_register_file(filename, aw=13, dw=8):\n",
    "    with open(filename, \"r\") as f:\n",
    "        lines = f.read().strip().split(\"\\n\")\n",
    "\n",
    "    ret = []\n",
    "\n",
    "    for line in lines:\n",
    "        a,b = line.split(\"\\t\")\n",
    "        data = int(b, 16)\n",
    "        mask = (1 << aw)-1\n",
    "        data_mask = (1 << dw) - 1\n",
    "\n",
    "        ret.append((mask & (data >> dw), data & data_mask))\n",
    "\n",
    "    return ret"
   ]
  },
  {
   "cell_type": "code",
   "execution_count": 11,
   "id": "0be567a0-189a-45d8-a4aa-c4eca358f15a",
   "metadata": {},
   "outputs": [],
   "source": [
    "prog_file = parse_register_file(\"clockfile.txt\")"
   ]
  },
  {
   "cell_type": "code",
   "execution_count": 12,
   "id": "68c9e3ec-5293-47ae-ada2-8050138a23e9",
   "metadata": {},
   "outputs": [
    {
     "name": "stdout",
     "output_type": "stream",
     "text": [
      "[0, 0, 2, 3, 4, 5, 6, 12, 13, 256, 257, 258, 259, 260, 261, 262, 263, 264, 265, 266, 267, 268, 269, 270, 271, 272, 273, 274, 275, 276, 277, 278, 279, 280, 281, 282, 283, 284, 285, 286, 287, 288, 289, 290, 291, 292, 293, 294, 295, 296, 297, 298, 299, 300, 301, 302, 303, 304, 305, 306, 307, 308, 309, 310, 311, 312, 313, 314, 315, 316, 317, 318, 319, 320, 321, 322, 323, 324, 325, 326, 327, 328, 329, 330, 331, 332, 333, 334, 335, 336, 337, 338, 339, 340, 341, 342, 343, 344, 345, 346, 347, 348, 349, 350, 351, 352, 353, 354, 355, 356, 357, 369, 370, 380, 381, 358, 359, 360, 361, 362, 363, 364, 365, 366, 371, 386, 387, 388, 389, 392, 393, 394, 395, 8189, 8190, 8191]\n"
     ]
    }
   ],
   "source": [
    "print([a[0] for a in prog_file])"
   ]
  },
  {
   "cell_type": "code",
   "execution_count": 13,
   "id": "9e7a01dd-f149-4f3e-bd0e-a469b64a61c9",
   "metadata": {},
   "outputs": [],
   "source": [
    "if 0:\n",
    "    for addr,data in prog_file:\n",
    "        # print(f\"Explaining register 0x{addr:x} = 0x{data:x}\")\n",
    "        if not addr in register_by_addr:\n",
    "            print(f\"Unhandled register: {hex(addr)}, skipping ...\")\n",
    "            print()\n",
    "            continue\n",
    "\n",
    "        register = register_by_addr[addr]\n",
    "        print(hex(addr))\n",
    "        register.parse(data)\n",
    "\n",
    "        for field in register.fields:\n",
    "            val = field.get()\n",
    "            if field.name == \"CONST\":\n",
    "                continue\n",
    "\n",
    "            print(f\"    {field.name}\")\n",
    "            print(f\"        Description: {field.description}\")\n",
    "            print(f\"        Value:       {val}\")\n",
    "            if field.valid_type == \"enum\":\n",
    "                print(f\"        ValDesc:     {field.value_description}\")\n",
    "            print()"
   ]
  },
  {
   "cell_type": "code",
   "execution_count": 14,
   "id": "2e1d9b70-ef8e-419c-a6b3-014c00003320",
   "metadata": {},
   "outputs": [],
   "source": [
    "lmx_clock_files = [\n",
    "    \"LMX2594_REF-245M76__OUT-0204M80_10172019_I_D.txt\",\n",
    "    \"LMX2594_REF-245M76__OUT-0245M76_10172019_I_D.txt\",\n",
    "    \"LMX2594_REF-245M76__OUT-0491M52_10172019_I_D.txt\",\n",
    "    \"LMX2594_REF-245M76__OUT-1024M00_11052019_D.txt\",\n",
    "    \"LMX2594_REF-245M76__OUT-1966M08_10172019_I_D.txt\",\n",
    "    \"LMX2594_REF-245M76__OUT-2211M84_10172019_I_D.txt\",\n",
    "    \"LMX2594_REF-245M76__OUT-2457M60_10172019_I_D.txt\",\n",
    "    \"LMX2594_REF-245M76__OUT-3072M00_10172019_I_D.txt\",\n",
    "    \"LMX2594_REF-245M76__OUT-3932M16_10172019_I.txt\",\n",
    "    \"LMX2594_REF-245M76__OUT-4096M00_11052019_D.txt\",\n",
    "    \"LMX2594_REF-245M76__OUT-4423M68_10172019_I_D.txt\",\n",
    "    \"LMX2594_REF-245M76__OUT-4915M20_10172019_I_D.txt\",\n",
    "    \"LMX2594_REF-245M76__OUT-5898M24_10172019_I_D.txt\",\n",
    "    \"LMX2594_REF-245M76__OUT-6144M00_10172019_I_D.txt\",\n",
    "    \"LMX2594_REF-245M76__OUT-6881M28_10172019_I_D.txt\",\n",
    "    \"LMX2594_REF-245M76__OUT-7372M80_10172019_I_D.txt\",\n",
    "    \"LMX2594_REF-245M76__OUT-7864M32_10172019_I.txt\",\n",
    "    \"LMX2594_REF-245M76__OUT-8192M00_11052019.txt\",\n",
    "    \"LMX2594_REF-245M76__OUT-8847M36_10172019_I.txt\",\n",
    "    \"LMX2594_REF-245M76__OUT-9830M40_10172019_I.txt\"\n",
    "]"
   ]
  },
  {
   "cell_type": "code",
   "execution_count": 15,
   "id": "238a53d3-7e94-4db9-937d-d1e6d966d3bf",
   "metadata": {},
   "outputs": [],
   "source": [
    "lmx = ipq_pynq_utils.LMX2594(245.76)"
   ]
  },
  {
   "cell_type": "code",
   "execution_count": 16,
   "id": "85d23c14-6fe6-4628-a56a-d6a505750428",
   "metadata": {},
   "outputs": [
    {
     "name": "stdout",
     "output_type": "stream",
     "text": [
      "f_outa =  204.80, f_vco =  9830.40\n",
      "f_outa =  245.76, f_vco =  7864.32\n",
      "f_outa =  491.52, f_vco =  7864.32\n",
      "f_outa = 1024.00, f_vco =  8192.00\n",
      "f_outa = 1966.08, f_vco =  7864.32\n",
      "f_outa = 2211.84, f_vco =  8847.36\n",
      "f_outa = 2457.60, f_vco =  9830.40\n",
      "f_outa = 3072.00, f_vco = 12288.00\n",
      "f_outa = 3932.16, f_vco =  7864.32\n",
      "f_outa = 4096.00, f_vco =  8192.00\n",
      "f_outa = 4423.68, f_vco =  8847.36\n",
      "f_outa = 4915.20, f_vco =  9830.40\n",
      "f_outa = 5898.24, f_vco = 11796.48\n",
      "f_outa = 6144.00, f_vco = 12288.00\n",
      "f_outa = 6881.28, f_vco = 13762.56\n",
      "f_outa = 7372.80, f_vco = 14745.60\n",
      "f_outa = 7864.32, f_vco =  7864.32\n",
      "f_outa = 8192.00, f_vco =  8192.00\n",
      "f_outa = 8847.36, f_vco =  8847.36\n",
      "f_outa = 9830.40, f_vco =  9830.40\n"
     ]
    }
   ],
   "source": [
    "for f in lmx_clock_files:\n",
    "    lmx.init_from_file(f\"../ipq_pynq_utils/data/clockFiles/{f}\")\n",
    "    print(f\"f_outa = {round(lmx.f_outa, ndigits=2):7.2f}, f_vco = {round(lmx.f_vco, ndigits=2):8.2f}\")# , f_outb = {round(lmx.f_outb, ndigits=3)}\")"
   ]
  },
  {
   "cell_type": "code",
   "execution_count": 17,
   "id": "2e553fb0-096d-4935-bb26-f2965a227361",
   "metadata": {},
   "outputs": [],
   "source": [
    "num = lmx.get_long_register(lmx.PLL_NUM_31_16, lmx.PLL_NUM_15_0)\n",
    "den = lmx.get_long_register(lmx.PLL_DEN_31_16, lmx.PLL_DEN_15_0)\n",
    "pll_n = lmx.get_long_register(lmx.PLL_N_18_16, lmx.PLL_N_15_0)"
   ]
  },
  {
   "cell_type": "code",
   "execution_count": 18,
   "id": "6f79f997-2293-425b-8d89-9c4c0d4d1399",
   "metadata": {},
   "outputs": [
    {
     "data": {
      "text/plain": [
       "9830.4"
      ]
     },
     "execution_count": 18,
     "metadata": {},
     "output_type": "execute_result"
    }
   ],
   "source": [
    "lmx.f_outa"
   ]
  },
  {
   "cell_type": "code",
   "execution_count": 19,
   "id": "6479e0e0-f79f-4b18-974a-0361f6d8efb9",
   "metadata": {},
   "outputs": [],
   "source": [
    "f_pd = 24.576\n",
    "f_vco = f_pd * (pll_n + num/den)"
   ]
  },
  {
   "cell_type": "code",
   "execution_count": 20,
   "id": "9cc3fb49-f83c-4656-9d47-4752e6206661",
   "metadata": {},
   "outputs": [
    {
     "data": {
      "text/plain": [
       "9830.4"
      ]
     },
     "execution_count": 20,
     "metadata": {},
     "output_type": "execute_result"
    }
   ],
   "source": [
    "f_vco"
   ]
  },
  {
   "cell_type": "code",
   "execution_count": 21,
   "id": "34bad9a8-b1d5-4d9d-8ed3-c458d4c21b5b",
   "metadata": {},
   "outputs": [
    {
     "data": {
      "text/plain": [
       "VCO"
      ]
     },
     "execution_count": 21,
     "metadata": {},
     "output_type": "execute_result"
    }
   ],
   "source": [
    "lmx.OUTA_MUX.get()"
   ]
  },
  {
   "cell_type": "code",
   "execution_count": 22,
   "id": "a598da90-b042-4d9d-b8c6-3c19bfca1c0a",
   "metadata": {},
   "outputs": [
    {
     "data": {
      "text/plain": [
       "1"
      ]
     },
     "execution_count": 22,
     "metadata": {},
     "output_type": "execute_result"
    }
   ],
   "source": [
    "lmx.SYSREF_DIV.get()"
   ]
  },
  {
   "cell_type": "code",
   "execution_count": 23,
   "id": "7c76f22b-e4dd-45f2-8a15-d7e65f443df0",
   "metadata": {},
   "outputs": [],
   "source": [
    "f_out = 4915.2"
   ]
  },
  {
   "cell_type": "code",
   "execution_count": 24,
   "id": "2c107d1e-8eb9-44b7-a69b-5acb261abe3c",
   "metadata": {},
   "outputs": [],
   "source": [
    "lmx.init_from_file(\"../ipq_pynq_utils/data/clockFiles/LMX2594_REF-245M76__OUT-3072M00_10172019_I_D.txt\")"
   ]
  },
  {
   "cell_type": "code",
   "execution_count": 45,
   "id": "0a46ab19-f765-46f8-99f3-29da240e9fb8",
   "metadata": {},
   "outputs": [
    {
     "name": "stdout",
     "output_type": "stream",
     "text": [
      "Solutions:\n",
      "  i    f_vco   DIV MIN_N DLY_SEL    n    R   R_pre f_fpd Metric\n",
      "----------------------------------------------------------------\n",
      "  0: 7864.32 /   4    28       1   32    1     1  245.76 128\n",
      "  1: 11796.48 /   6    28       1   48    1     1  245.76 288\n",
      "Choosing solution 0 with minimal metric 128\n",
      "2G\n",
      "Solutions:\n",
      "  i    f_vco   DIV MIN_N DLY_SEL    n    R   R_pre f_fpd Metric\n",
      "----------------------------------------------------------------\n",
      "  0: 7864.32 /   4    28       1   32    1     1  245.76 128\n",
      "  1: 11796.48 /   6    28       1   48    1     1  245.76 288\n",
      "Choosing solution 0 with minimal metric 128\n"
     ]
    }
   ],
   "source": [
    "lmx.set_output_frequency(1966.08)\n",
    "\n",
    "print(\"2G\")\n",
    "\n",
    "lmx.set_output_frequency(1966.08)"
   ]
  },
  {
   "cell_type": "code",
   "execution_count": 44,
   "id": "18046cbe-bfd2-425f-b655-b469954d9cfe",
   "metadata": {},
   "outputs": [
    {
     "data": {
      "text/plain": [
       "2000.299746835443"
      ]
     },
     "execution_count": 44,
     "metadata": {},
     "output_type": "execute_result"
    }
   ],
   "source": [
    "lmx.f_outa"
   ]
  },
  {
   "cell_type": "code",
   "execution_count": 47,
   "id": "872cbac4-7c43-440e-97fa-d29e7b73df63",
   "metadata": {},
   "outputs": [
    {
     "data": {
      "text/plain": [
       "8.0"
      ]
     },
     "execution_count": 47,
     "metadata": {},
     "output_type": "execute_result"
    }
   ],
   "source": [
    "1966.08 / 245.76"
   ]
  },
  {
   "cell_type": "code",
   "execution_count": 27,
   "id": "641cf85c-f18c-4b8f-b3e4-ecc5d536f389",
   "metadata": {},
   "outputs": [
    {
     "name": "stdout",
     "output_type": "stream",
     "text": [
      "Solutions:\n",
      "  i    f_vco   DIV MIN_N DLY_SEL    n    R   R_pre f_fpd Metric\n",
      "----------------------------------------------------------------\n",
      "  0: 9830.40 /   2    28       1   40    1     1  245.76 80\n",
      "Choosing solution 0 with minimal metric 80\n",
      "31\n"
     ]
    }
   ],
   "source": [
    "lmx.init_from_file(\"../ipq_pynq_utils/data/clockFiles/LMX2594_REF-245M76__OUT-3072M00_10172019_I_D.txt\")\n",
    "lmx.set_output_frequency(f_out)\n",
    "a = np.array(lmx.get_register_dump())\n",
    "\n",
    "print(lmx.OUTA_PWR.value)"
   ]
  },
  {
   "cell_type": "code",
   "execution_count": 28,
   "id": "46fc1a62-4d43-4825-b8d5-f1594777b8f7",
   "metadata": {},
   "outputs": [
    {
     "name": "stdout",
     "output_type": "stream",
     "text": [
      "Solutions:\n",
      "  i    f_vco   DIV MIN_N DLY_SEL    n    R   R_pre f_fpd Metric\n",
      "----------------------------------------------------------------\n",
      "  0: 9830.40 /   2    28       1   40    1     1  245.76 80\n",
      "Choosing solution 0 with minimal metric 80\n",
      "31\n"
     ]
    }
   ],
   "source": [
    "lmx.init_from_file(\"../ipq_pynq_utils/data/clockFiles/LMX2594_REF-245M76__OUT-1024M00_11052019_D.txt\")\n",
    "lmx.set_output_frequency(f_out)\n",
    "b = np.array(lmx.get_register_dump())\n",
    "\n",
    "print(lmx.OUTA_PWR.value)"
   ]
  },
  {
   "cell_type": "code",
   "execution_count": 29,
   "id": "e9d4220f-14bc-492b-9891-6e2ef149a99a",
   "metadata": {},
   "outputs": [
    {
     "name": "stdout",
     "output_type": "stream",
     "text": [
      "Solutions:\n",
      "  i    f_vco   DIV MIN_N DLY_SEL    n    R   R_pre f_fpd Metric\n",
      "----------------------------------------------------------------\n",
      "  0: 9830.40 /   2    28       1   40    1     1  245.76 80\n",
      "Choosing solution 0 with minimal metric 80\n"
     ]
    },
    {
     "data": {
      "text/plain": [
       "(array([  0,  14,  17,  60,  72,  78,  79,  80,  82,  84,  85,  97,  98,\n",
       "        101, 102, 105, 106]),)"
      ]
     },
     "execution_count": 29,
     "metadata": {},
     "output_type": "execute_result"
    }
   ],
   "source": [
    "lmx = ipq_pynq_utils.LMX2594(245.76)\n",
    "\n",
    "lmx.set_output_frequency(f_out)\n",
    "b = np.array(lmx.get_register_dump())\n",
    "np.where(a[::-1] != b[::-1])"
   ]
  },
  {
   "cell_type": "code",
   "execution_count": 30,
   "id": "ebc8ce71-7ccc-480e-aaa6-0a1c5210e67f",
   "metadata": {},
   "outputs": [
    {
     "name": "stdout",
     "output_type": "stream",
     "text": [
      "Solutions:\n",
      "  i    f_vco   DIV MIN_N DLY_SEL    n    R   R_pre f_fpd Metric\n",
      "----------------------------------------------------------------\n",
      "  0: 9830.40 /   2    28       1   40    1     1  245.76 80\n",
      "Choosing solution 0 with minimal metric 80\n",
      "LMX2594_REF-245M76__OUT-0204M80_10172019_I_D.txt (array([], dtype=int64),)\n",
      "Solutions:\n",
      "  i    f_vco   DIV MIN_N DLY_SEL    n    R   R_pre f_fpd Metric\n",
      "----------------------------------------------------------------\n",
      "  0: 9830.40 /   2    28       1   40    1     1  245.76 80\n",
      "Choosing solution 0 with minimal metric 80\n",
      "LMX2594_REF-245M76__OUT-0245M76_10172019_I_D.txt (array([], dtype=int64),)\n",
      "Solutions:\n",
      "  i    f_vco   DIV MIN_N DLY_SEL    n    R   R_pre f_fpd Metric\n",
      "----------------------------------------------------------------\n",
      "  0: 9830.40 /   2    28       1   40    1     1  245.76 80\n",
      "Choosing solution 0 with minimal metric 80\n",
      "LMX2594_REF-245M76__OUT-0491M52_10172019_I_D.txt (array([], dtype=int64),)\n",
      "Solutions:\n",
      "  i    f_vco   DIV MIN_N DLY_SEL    n    R   R_pre f_fpd Metric\n",
      "----------------------------------------------------------------\n",
      "  0: 9830.40 /   2    28       1   40    1     1  245.76 80\n",
      "Choosing solution 0 with minimal metric 80\n",
      "LMX2594_REF-245M76__OUT-1024M00_11052019_D.txt (array([], dtype=int64),)\n",
      "Solutions:\n",
      "  i    f_vco   DIV MIN_N DLY_SEL    n    R   R_pre f_fpd Metric\n",
      "----------------------------------------------------------------\n",
      "  0: 9830.40 /   2    28       1   40    1     1  245.76 80\n",
      "Choosing solution 0 with minimal metric 80\n",
      "LMX2594_REF-245M76__OUT-1966M08_10172019_I_D.txt (array([], dtype=int64),)\n",
      "Solutions:\n",
      "  i    f_vco   DIV MIN_N DLY_SEL    n    R   R_pre f_fpd Metric\n",
      "----------------------------------------------------------------\n",
      "  0: 9830.40 /   2    28       1   40    1     1  245.76 80\n",
      "Choosing solution 0 with minimal metric 80\n",
      "LMX2594_REF-245M76__OUT-2211M84_10172019_I_D.txt (array([], dtype=int64),)\n",
      "Solutions:\n",
      "  i    f_vco   DIV MIN_N DLY_SEL    n    R   R_pre f_fpd Metric\n",
      "----------------------------------------------------------------\n",
      "  0: 9830.40 /   2    28       1   40    1     1  245.76 80\n",
      "Choosing solution 0 with minimal metric 80\n",
      "LMX2594_REF-245M76__OUT-2457M60_10172019_I_D.txt (array([], dtype=int64),)\n",
      "Solutions:\n",
      "  i    f_vco   DIV MIN_N DLY_SEL    n    R   R_pre f_fpd Metric\n",
      "----------------------------------------------------------------\n",
      "  0: 9830.40 /   2    28       1   40    1     1  245.76 80\n",
      "Choosing solution 0 with minimal metric 80\n",
      "LMX2594_REF-245M76__OUT-3072M00_10172019_I_D.txt (array([], dtype=int64),)\n",
      "Solutions:\n",
      "  i    f_vco   DIV MIN_N DLY_SEL    n    R   R_pre f_fpd Metric\n",
      "----------------------------------------------------------------\n",
      "  0: 9830.40 /   2    28       1   40    1     1  245.76 80\n",
      "Choosing solution 0 with minimal metric 80\n",
      "LMX2594_REF-245M76__OUT-3932M16_10172019_I.txt (array([], dtype=int64),)\n",
      "Solutions:\n",
      "  i    f_vco   DIV MIN_N DLY_SEL    n    R   R_pre f_fpd Metric\n",
      "----------------------------------------------------------------\n",
      "  0: 9830.40 /   2    28       1   40    1     1  245.76 80\n",
      "Choosing solution 0 with minimal metric 80\n",
      "LMX2594_REF-245M76__OUT-4096M00_11052019_D.txt (array([], dtype=int64),)\n",
      "Solutions:\n",
      "  i    f_vco   DIV MIN_N DLY_SEL    n    R   R_pre f_fpd Metric\n",
      "----------------------------------------------------------------\n",
      "  0: 9830.40 /   2    28       1   40    1     1  245.76 80\n",
      "Choosing solution 0 with minimal metric 80\n",
      "LMX2594_REF-245M76__OUT-4423M68_10172019_I_D.txt (array([], dtype=int64),)\n",
      "Solutions:\n",
      "  i    f_vco   DIV MIN_N DLY_SEL    n    R   R_pre f_fpd Metric\n",
      "----------------------------------------------------------------\n",
      "  0: 9830.40 /   2    28       1   40    1     1  245.76 80\n",
      "Choosing solution 0 with minimal metric 80\n",
      "LMX2594_REF-245M76__OUT-4915M20_10172019_I_D.txt (array([], dtype=int64),)\n",
      "Solutions:\n",
      "  i    f_vco   DIV MIN_N DLY_SEL    n    R   R_pre f_fpd Metric\n",
      "----------------------------------------------------------------\n",
      "  0: 9830.40 /   2    28       1   40    1     1  245.76 80\n",
      "Choosing solution 0 with minimal metric 80\n",
      "LMX2594_REF-245M76__OUT-5898M24_10172019_I_D.txt (array([], dtype=int64),)\n",
      "Solutions:\n",
      "  i    f_vco   DIV MIN_N DLY_SEL    n    R   R_pre f_fpd Metric\n",
      "----------------------------------------------------------------\n",
      "  0: 9830.40 /   2    28       1   40    1     1  245.76 80\n",
      "Choosing solution 0 with minimal metric 80\n",
      "LMX2594_REF-245M76__OUT-6144M00_10172019_I_D.txt (array([], dtype=int64),)\n",
      "Solutions:\n",
      "  i    f_vco   DIV MIN_N DLY_SEL    n    R   R_pre f_fpd Metric\n",
      "----------------------------------------------------------------\n",
      "  0: 9830.40 /   2    28       1   40    1     1  245.76 80\n",
      "Choosing solution 0 with minimal metric 80\n",
      "LMX2594_REF-245M76__OUT-6881M28_10172019_I_D.txt (array([], dtype=int64),)\n",
      "Solutions:\n",
      "  i    f_vco   DIV MIN_N DLY_SEL    n    R   R_pre f_fpd Metric\n",
      "----------------------------------------------------------------\n",
      "  0: 9830.40 /   2    28       1   40    1     1  245.76 80\n",
      "Choosing solution 0 with minimal metric 80\n",
      "LMX2594_REF-245M76__OUT-7372M80_10172019_I_D.txt (array([], dtype=int64),)\n",
      "Solutions:\n",
      "  i    f_vco   DIV MIN_N DLY_SEL    n    R   R_pre f_fpd Metric\n",
      "----------------------------------------------------------------\n",
      "  0: 9830.40 /   2    28       1   40    1     1  245.76 80\n",
      "Choosing solution 0 with minimal metric 80\n",
      "LMX2594_REF-245M76__OUT-7864M32_10172019_I.txt (array([], dtype=int64),)\n",
      "Solutions:\n",
      "  i    f_vco   DIV MIN_N DLY_SEL    n    R   R_pre f_fpd Metric\n",
      "----------------------------------------------------------------\n",
      "  0: 9830.40 /   2    28       1   40    1     1  245.76 80\n",
      "Choosing solution 0 with minimal metric 80\n",
      "LMX2594_REF-245M76__OUT-8192M00_11052019.txt (array([], dtype=int64),)\n",
      "Solutions:\n",
      "  i    f_vco   DIV MIN_N DLY_SEL    n    R   R_pre f_fpd Metric\n",
      "----------------------------------------------------------------\n",
      "  0: 9830.40 /   2    28       1   40    1     1  245.76 80\n",
      "Choosing solution 0 with minimal metric 80\n",
      "LMX2594_REF-245M76__OUT-8847M36_10172019_I.txt (array([], dtype=int64),)\n",
      "Solutions:\n",
      "  i    f_vco   DIV MIN_N DLY_SEL    n    R   R_pre f_fpd Metric\n",
      "----------------------------------------------------------------\n",
      "  0: 9830.40 /   2    28       1   40    1     1  245.76 80\n",
      "Choosing solution 0 with minimal metric 80\n",
      "LMX2594_REF-245M76__OUT-9830M40_10172019_I.txt (array([], dtype=int64),)\n"
     ]
    }
   ],
   "source": [
    "for f in lmx_clock_files:\n",
    "    lmx.init_from_file(f\"../ipq_pynq_utils/data/clockFiles/{f}\")\n",
    "    lmx.set_output_frequency(f_out)\n",
    "    b = np.array(lmx.get_register_dump())\n",
    "    print(f, np.where(a[::-1] != b[::-1]))"
   ]
  },
  {
   "cell_type": "code",
   "execution_count": 38,
   "id": "128596cc-b382-4810-b244-21e38295c607",
   "metadata": {},
   "outputs": [
    {
     "name": "stdout",
     "output_type": "stream",
     "text": [
      "R109\t0x6D0000\n",
      "R108\t0x6C0000\n",
      "R107\t0x6B0000\n",
      "R106\t0x6A0000\n",
      "R105\t0x690021\n",
      "R104\t0x680000\n",
      "R103\t0x670000\n",
      "R102\t0x663F80\n",
      "R101\t0x650011\n",
      "R100\t0x640000\n",
      "R99\t0x630000\n",
      "R98\t0x620200\n",
      "R97\t0x610888\n",
      "R96\t0x600000\n",
      "R95\t0x5F0000\n",
      "R94\t0x5E0000\n",
      "R93\t0x5D0000\n",
      "R92\t0x5C0000\n",
      "R91\t0x5B0000\n",
      "R90\t0x5A0000\n",
      "R89\t0x590000\n",
      "R88\t0x580000\n",
      "R87\t0x570000\n",
      "R86\t0x560000\n",
      "R85\t0x55D300\n",
      "R84\t0x540001\n",
      "R83\t0x530000\n",
      "R82\t0x521E00\n",
      "R81\t0x510000\n",
      "R80\t0x506666\n",
      "R79\t0x4F0026\n",
      "R78\t0x4E0003\n",
      "R77\t0x4D0000\n",
      "R76\t0x4C000C\n",
      "R75\t0x4B0840\n",
      "R74\t0x4A0000\n",
      "R73\t0x49003F\n",
      "R72\t0x480001\n",
      "R71\t0x470081\n",
      "R70\t0x46C350\n",
      "R69\t0x450000\n",
      "R68\t0x4403E8\n",
      "R67\t0x430000\n",
      "R66\t0x4201F4\n",
      "R65\t0x410000\n",
      "R64\t0x401388\n",
      "R63\t0x3F0000\n",
      "R62\t0x3E0322\n",
      "R61\t0x3D00A8\n",
      "R60\t0x3C0000\n",
      "R59\t0x3B0001\n",
      "R58\t0x3A8001\n",
      "R57\t0x390020\n",
      "R56\t0x380000\n",
      "R55\t0x370000\n",
      "R54\t0x360000\n",
      "R53\t0x350000\n",
      "R52\t0x340820\n",
      "R51\t0x330080\n",
      "R50\t0x320000\n",
      "R49\t0x314180\n",
      "R48\t0x300300\n",
      "R47\t0x2F0300\n",
      "R46\t0x2E07FC\n",
      "R45\t0x2DC0C0\n",
      "R44\t0x2C1F80\n",
      "R43\t0x2B0000\n",
      "R42\t0x2A0000\n",
      "R41\t0x290000\n",
      "R40\t0x280000\n",
      "R39\t0x270000\n",
      "R38\t0x260000\n",
      "R37\t0x250104\n",
      "R36\t0x240C35\n",
      "R35\t0x230004\n",
      "R34\t0x220000\n",
      "R33\t0x211E21\n",
      "R32\t0x200393\n",
      "R31\t0x1F43EC\n",
      "R30\t0x1E318C\n",
      "R29\t0x1D318C\n",
      "R28\t0x1C0488\n",
      "R27\t0x1B0002\n",
      "R26\t0x1A0DB0\n",
      "R25\t0x190C2B\n",
      "R24\t0x18071A\n",
      "R23\t0x17007C\n",
      "R22\t0x160001\n",
      "R21\t0x150401\n",
      "R20\t0x14F848\n",
      "R19\t0x1327B7\n",
      "R18\t0x120064\n",
      "R17\t0x11012C\n",
      "R16\t0x100080\n",
      "R15\t0x0F064F\n",
      "R14\t0x0E1E40\n",
      "R13\t0x0D4000\n",
      "R12\t0x0C5001\n",
      "R11\t0x0B0608\n",
      "R10\t0x0A10D8\n",
      "R9\t0x090604\n",
      "R8\t0x082000\n",
      "R7\t0x0700B2\n",
      "R6\t0x06C802\n",
      "R5\t0x0500C8\n",
      "R4\t0x041943\n",
      "R3\t0x030642\n",
      "R2\t0x020500\n",
      "R1\t0x01080B\n",
      "R0\t0x00265C\n"
     ]
    }
   ],
   "source": [
    "for addr,v in lmx.get_register_dump(with_addr=True):\n",
    "    print(f\"R{addr}\\t0x{v:06X}\")"
   ]
  },
  {
   "cell_type": "code",
   "execution_count": null,
   "id": "8f833f15-b042-4ac5-8845-81ae7066cb73",
   "metadata": {},
   "outputs": [],
   "source": []
  }
 ],
 "metadata": {
  "kernelspec": {
   "display_name": "Python 3 (ipykernel)",
   "language": "python",
   "name": "python3"
  },
  "language_info": {
   "codemirror_mode": {
    "name": "ipython",
    "version": 3
   },
   "file_extension": ".py",
   "mimetype": "text/x-python",
   "name": "python",
   "nbconvert_exporter": "python",
   "pygments_lexer": "ipython3",
   "version": "3.10.5"
  }
 },
 "nbformat": 4,
 "nbformat_minor": 5
}
